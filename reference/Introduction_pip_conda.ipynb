{
 "cells": [
  {
   "cell_type": "markdown",
   "id": "f3ddef27",
   "metadata": {},
   "source": [
    "# This tutorial will guide you through the process of installing Python packages using pip or conda, the package installer for Python."
   ]
  },
  {
   "cell_type": "markdown",
   "id": "e5c381f6",
   "metadata": {},
   "source": [
    "# Installing Python Packages with pip"
   ]
  },
  {
   "cell_type": "markdown",
   "id": "f7efe8c8",
   "metadata": {},
   "source": [
    "## What is pip?\n",
    "pip is the Python Package Installer. It allows you to install and manage additional libraries and dependencies that are not distributed as part of the standard library. Using pip, you can install packages from PyPI, version control, local projects, and directly from distribution files. pip also supports installing from a requirements file, which can be used to install a set of packages."
   ]
  },
  {
   "cell_type": "markdown",
   "id": "3c78cd31",
   "metadata": {},
   "source": [
    "## Checking if pip is Installed\n",
    "Before installing packages, you should ensure that pip is installed. Most Python installations already include pip. You can check if pip is installed and its version by running the following command in your terminal or command prompt: `pip --version`"
   ]
  },
  {
   "cell_type": "markdown",
   "id": "a5e8153d",
   "metadata": {},
   "source": [
    "If pip is installed, this command will return the version of pip that's currently installed. If pip is not installed, you can download and install it by following the instructions at [pip's official website](https://pip.pypa.io/en/stable/installing/)."
   ]
  },
  {
   "cell_type": "markdown",
   "id": "07e4a3e5",
   "metadata": {},
   "source": [
    "## How to Install a Package with pip\n",
    "Installing packages with pip is straightforward. To install a package, use the following command: `pip install package_name` Replace `package_name` with the name of the package you wish to install. For example, to install requests, you would run `pip install requests`"
   ]
  },
  {
   "cell_type": "markdown",
   "id": "d0c4b949",
   "metadata": {},
   "source": [
    "## Upgrading a Package\n",
    "To upgrade an already installed package to the latest version, use the following command: `pip install --upgrade package_name`"
   ]
  },
  {
   "cell_type": "markdown",
   "id": "ceb0c7f6",
   "metadata": {},
   "source": [
    "## Using a Requirements File\n",
    "A requirements file is a simple text file that lists the packages and their specific versions you need for a project. You can install all packages from a requirements file using the following command: `pip install -r requirements.txt`. Replace `requirements.txt` with the path to your file."
   ]
  },
  {
   "cell_type": "markdown",
   "id": "0c166454",
   "metadata": {},
   "source": [
    "## Uninstalling Packages\n",
    "If you need to uninstall a package, you can do so with the following command: `pip uninstall package_name`"
   ]
  },
  {
   "cell_type": "markdown",
   "id": "01347a18",
   "metadata": {},
   "source": [
    "## Creating a Virtual Environment\n",
    "It's an isolated environment that allows Python packages to be installed for use by a particular application or project, without affecting the global Python installation.\n",
    "It's essential for managing package versions and dependencies, ensuring consistency across development, testing, and production environments."
   ]
  },
  {
   "cell_type": "markdown",
   "id": "6e31c870",
   "metadata": {},
   "source": [
    "1.  Create a Virtual Environment: `python3 -m venv /path/to/new/virtual/environment`\n",
    "\n",
    "    `/path/to/new/virtual/environment` should be replaced with the desired directory for the virtual environment. For example, `python3 -m venv myprojectenv`."
   ]
  },
  {
   "cell_type": "markdown",
   "id": "4003d717",
   "metadata": {},
   "source": [
    "2. Activating the Virtual Environment:\n",
    "\n",
    "    On Windows: `\\path\\to\\env\\Scripts\\activate`\n",
    "    \n",
    "    On Unix or MacOS: `source /path/to/env/bin/activate`\n",
    "    \n",
    "    After activation, the shell prompt will change to show the name of the activated environment."
   ]
  },
  {
   "cell_type": "markdown",
   "id": "aed4a441",
   "metadata": {},
   "source": [
    "3. Deactivating the Virtual Environment:\n",
    "\n",
    "    Simply run: `deactivate`\n",
    "    \n",
    "    This command will revert to the system's default Python interpreter."
   ]
  },
  {
   "cell_type": "markdown",
   "id": "fe23b061",
   "metadata": {},
   "source": [
    "# Installing Python Packages with conda"
   ]
  },
  {
   "cell_type": "markdown",
   "id": "a04b226c",
   "metadata": {},
   "source": [
    "This tutorial will guide you through the process of installing Python packages using Conda, a powerful package manager and environment manager that comes with Anaconda and Miniconda. Conda allows you to install, run, and update packages and their dependencies with ease."
   ]
  },
  {
   "cell_type": "markdown",
   "id": "dbe03352",
   "metadata": {},
   "source": [
    "## What is Conda?"
   ]
  },
  {
   "cell_type": "markdown",
   "id": "91c081a6",
   "metadata": {},
   "source": [
    "Conda is an open-source package management system and environment management system that runs on Windows, macOS, and Linux. Conda quickly installs, runs, and updates packages and their dependencies. It also allows you to easily create, save, load, and switch between environments on your local computer. It was created for Python programs but can package and distribute software for any language."
   ]
  },
  {
   "cell_type": "markdown",
   "id": "bd411cfb",
   "metadata": {},
   "source": [
    "## Installing Conda"
   ]
  },
  {
   "cell_type": "markdown",
   "id": "68d9a730",
   "metadata": {},
   "source": [
    "If you do not have Conda installed, you can download Anaconda or Miniconda from their official websites. Anaconda is a distribution that includes Conda, Python, and over 150 scientific packages and their dependencies. Miniconda is a minimal installer for Conda.\n",
    "\n",
    "- **Anaconda:** [Anaconda Distribution](https://www.anaconda.com/products/individual)\n",
    "- **Miniconda:** [Miniconda](https://docs.conda.io/en/latest/miniconda.html)"
   ]
  },
  {
   "cell_type": "markdown",
   "id": "c7a20d36",
   "metadata": {},
   "source": [
    "## How to Install a Package with Conda"
   ]
  },
  {
   "cell_type": "markdown",
   "id": "1ea3f7d7",
   "metadata": {},
   "source": [
    "1. **Open your terminal (Mac/Linux) or Anaconda Prompt (Windows).**\n",
    "2. **Check if Conda is installed:** `conda --version`\n",
    "3. **Update Conda to the latest version:** `conda update conda`\n",
    "4. **Install a package:** `conda install package_name`"
   ]
  },
  {
   "cell_type": "markdown",
   "id": "74d3610c",
   "metadata": {},
   "source": [
    "Replace `package_name` with the name of the package you wish to install. For example, to install NumPy, you would run `conda install numpy`."
   ]
  },
  {
   "cell_type": "markdown",
   "id": "c739b234",
   "metadata": {},
   "source": [
    "## Creating and Managing Environments"
   ]
  },
  {
   "cell_type": "markdown",
   "id": "23cb3fe8",
   "metadata": {},
   "source": [
    "Conda allows you to create separate environments containing files, packages, and their dependencies that will not interact with other environments.\n",
    "\n",
    "- **Create a new environment:** `conda create --name myenv`\n",
    "- **Activate an environment:** `conda activate myenv`\n",
    "- **Deactivate an environment:** `conda deactivate`"
   ]
  },
  {
   "cell_type": "markdown",
   "id": "f73aaa64",
   "metadata": {},
   "source": [
    "## Searching for Packages"
   ]
  },
  {
   "cell_type": "markdown",
   "id": "634973a1",
   "metadata": {},
   "source": [
    "Before installing a package, you may want to check if it is available in the Conda repositories.\n",
    "\n",
    "- **Search for a package:** `conda search package_name`\n",
    "\n",
    "This command will list all versions of the package available for installation."
   ]
  }
 ],
 "metadata": {
  "kernelspec": {
   "display_name": "Python 3 (ipykernel)",
   "language": "python",
   "name": "python3"
  },
  "language_info": {
   "codemirror_mode": {
    "name": "ipython",
    "version": 3
   },
   "file_extension": ".py",
   "mimetype": "text/x-python",
   "name": "python",
   "nbconvert_exporter": "python",
   "pygments_lexer": "ipython3",
   "version": "3.9.13"
  }
 },
 "nbformat": 4,
 "nbformat_minor": 5
}
